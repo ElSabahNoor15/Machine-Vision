{
  "nbformat": 4,
  "nbformat_minor": 0,
  "metadata": {
    "colab": {
      "provenance": []
    },
    "kernelspec": {
      "name": "python3",
      "display_name": "Python 3"
    },
    "language_info": {
      "name": "python"
    }
  },
  "cells": [
    {
      "cell_type": "code",
      "execution_count": null,
      "metadata": {
        "id": "gfJzE820wb-K"
      },
      "outputs": [],
      "source": [
        "!unzip drive/MyDrive/yolo_apple_data.zip"
      ]
    },
    {
      "cell_type": "code",
      "source": [
        "#!unzip /content/drive/MyDrive/Accuracy-2024.zip"
      ],
      "metadata": {
        "id": "8RCsugz_gjka"
      },
      "execution_count": null,
      "outputs": []
    },
    {
      "cell_type": "code",
      "source": [
        "!unzip count_labels"
      ],
      "metadata": {
        "id": "aBtlVSj361yA"
      },
      "execution_count": null,
      "outputs": []
    },
    {
      "cell_type": "markdown",
      "source": [
        "**DATA PREPARATION**\n"
      ],
      "metadata": {
        "id": "zVaPgbRRDgq0"
      }
    },
    {
      "cell_type": "code",
      "source": [
        "import cv2\n",
        "import os\n",
        "\n",
        "train_data = []\n",
        "\n",
        "for fname in os.listdir(\"/content/data/images/train\"):\n",
        "  fname_indl = fname.rfind(\"/\") + 1\n",
        "  fname_indr = fname.rfind(\".\")\n",
        "\n",
        "  with open(\"/content/labels/\" + fname[fname_indl:fname_indr]+\".txt\", \"r\") as f:\n",
        "    apple_count = f.read()\n",
        "  train_data.append([cv2.imread(\"/content/data/images/train/\" + fname), apple_count])"
      ],
      "metadata": {
        "id": "_KxQolIW412i"
      },
      "execution_count": 5,
      "outputs": []
    },
    {
      "cell_type": "code",
      "source": [
        "print(train_data[0][1])\n",
        "print(len(train_data))"
      ],
      "metadata": {
        "colab": {
          "base_uri": "https://localhost:8080/"
        },
        "id": "Jv4ybsmM8pjB",
        "outputId": "e46995d7-89da-4b34-b8a4-bdfadd03e0c8"
      },
      "execution_count": 6,
      "outputs": [
        {
          "output_type": "stream",
          "name": "stdout",
          "text": [
            "92\n",
            "536\n"
          ]
        }
      ]
    },
    {
      "cell_type": "code",
      "source": [
        "import random\n",
        "\n",
        "random.shuffle(train_data)"
      ],
      "metadata": {
        "id": "nGEqNYvP80qQ"
      },
      "execution_count": 7,
      "outputs": []
    },
    {
      "cell_type": "code",
      "source": [
        "import numpy as np\n",
        "\n",
        "X = []\n",
        "y=  []\n",
        "\n",
        "for img, label in train_data:\n",
        "  X.append(np.resize(img,(640, 360, 3)))\n",
        "  y.append(int(label))"
      ],
      "metadata": {
        "id": "uR7cjwNj81pw"
      },
      "execution_count": 8,
      "outputs": []
    },
    {
      "cell_type": "code",
      "source": [
        "X = np.array(X)\n",
        "print(X.shape)"
      ],
      "metadata": {
        "colab": {
          "base_uri": "https://localhost:8080/"
        },
        "id": "3Y9x0IY_81yV",
        "outputId": "99cb4a45-48f7-4c4a-caff-4e7781fd57d0"
      },
      "execution_count": 9,
      "outputs": [
        {
          "output_type": "stream",
          "name": "stdout",
          "text": [
            "(536, 640, 360, 3)\n"
          ]
        }
      ]
    },
    {
      "cell_type": "code",
      "source": [
        "y = np.array(y)"
      ],
      "metadata": {
        "id": "nqCcH-rXO3O9"
      },
      "execution_count": 10,
      "outputs": []
    },
    {
      "cell_type": "code",
      "source": [
        "np.save(\"drive/MyDrive/X.npy\", X)\n",
        "np.save(\"drive/MyDrive/y.npy\", y)"
      ],
      "metadata": {
        "id": "Wgax0_U-DPG7"
      },
      "execution_count": null,
      "outputs": []
    },
    {
      "cell_type": "code",
      "source": [
        "import numpy as np\n",
        "\n",
        "X = np.load(\"drive/MyDrive/X.npy\")\n",
        "y = np.load(\"drive/MyDrive/y.npy\")"
      ],
      "metadata": {
        "id": "D3zPER8wP-GV"
      },
      "execution_count": 1,
      "outputs": []
    },
    {
      "cell_type": "code",
      "source": [
        "print(X.shape, y.shape)"
      ],
      "metadata": {
        "colab": {
          "base_uri": "https://localhost:8080/"
        },
        "id": "b79B6UcrQ8hZ",
        "outputId": "01bcd9a2-65b7-428e-d4d4-91340c741650"
      },
      "execution_count": 3,
      "outputs": [
        {
          "output_type": "stream",
          "name": "stdout",
          "text": [
            "(536, 640, 360, 3) (536,)\n"
          ]
        }
      ]
    },
    {
      "cell_type": "code",
      "source": [
        "print(type(y[1]))"
      ],
      "metadata": {
        "colab": {
          "base_uri": "https://localhost:8080/"
        },
        "id": "BD5uvIiIbM_m",
        "outputId": "8a4b2540-e0f9-47c4-c0a2-cc9c4e13ff7f"
      },
      "execution_count": null,
      "outputs": [
        {
          "output_type": "stream",
          "name": "stdout",
          "text": [
            "<class 'numpy.int64'>\n"
          ]
        }
      ]
    },
    {
      "cell_type": "code",
      "source": [
        "X = X/255.0"
      ],
      "metadata": {
        "id": "t9FoKFFIOPZ3"
      },
      "execution_count": 4,
      "outputs": []
    },
    {
      "cell_type": "markdown",
      "source": [
        "**CNN ARCHITECTURE**"
      ],
      "metadata": {
        "id": "ySwDPUVMDnA6"
      }
    },
    {
      "cell_type": "code",
      "source": [
        "#SIMPLER NET\n",
        "\n",
        "import tensorflow as tf\n",
        "from tensorflow.keras import datasets, layers, models\n",
        "import matplotlib.pyplot as plt\n",
        "\n",
        "input_shape=(640, 360, 3)\n",
        "\n",
        "input_tensor = layers.Input(shape=input_shape)\n",
        "\n",
        "x = layers.BatchNormalization()(input_tensor)\n",
        "x = layers.Conv2D(32, (5, 5), strides=(1, 1), padding='same')(x)\n",
        "x = layers.LeakyReLU(alpha=0.1)(x)\n",
        "x = layers.MaxPooling2D(pool_size=(2, 2))(x)\n",
        "\n",
        "x = layers.BatchNormalization()(x)\n",
        "x = layers.Conv2D(64, (5, 5), strides=(1, 1), padding='same')(x)\n",
        "x = layers.LeakyReLU(alpha=0.1)(x)\n",
        "x = layers.MaxPooling2D(pool_size=(2, 2))(x)\n",
        "\n",
        "x = layers.BatchNormalization()(x)\n",
        "x = layers.Conv2D(128, (5, 5), strides=(1, 1), padding='same')(x)\n",
        "x = layers.LeakyReLU(alpha=0.1)(x)\n",
        "x = layers.MaxPooling2D(pool_size=(2, 2))(x)\n",
        "x = layers.BatchNormalization()(x)\n",
        "x = layers.Conv2D(64, (1, 1), strides=(1, 1), padding='same')(x)\n",
        "x = layers.LeakyReLU(alpha=0.1)(x)\n",
        "x = layers.MaxPooling2D(pool_size=(2, 2))(x)\n",
        "x = layers.BatchNormalization()(x)\n",
        "x = layers.Conv2D(128, (5, 5), strides=(1, 1), padding='same')(x)\n",
        "x = layers.LeakyReLU(alpha=0.1)(x)\n",
        "\n",
        "x = layers.BatchNormalization()(x)\n",
        "x = layers.Conv2D(256, (5, 5), strides=(1, 1), padding='same')(x)\n",
        "x = layers.LeakyReLU(alpha=0.1)(x)\n",
        "x = layers.MaxPooling2D(pool_size=(2, 2))(x)\n",
        "\n",
        "x = layers.GlobalAveragePooling2D()(x)\n",
        "\n",
        "x = layers.Dense(1024)(x)\n",
        "x = layers.LeakyReLU(alpha=0.1)(x)\n",
        "x = layers.Dense(128)(x)\n",
        "x = layers.LeakyReLU(alpha=0.1)(x)\n",
        "\n",
        "output_tensor = layers.Dense(1, activation = 'linear')(x)\n",
        "\n",
        "model = models.Model(inputs=input_tensor, outputs=output_tensor)\n",
        "\n",
        "model.summary()"
      ],
      "metadata": {
        "colab": {
          "base_uri": "https://localhost:8080/"
        },
        "id": "OiryRUOlkzVl",
        "outputId": "df06ee9d-f842-46a7-bedf-e9ccc164050d"
      },
      "execution_count": 3,
      "outputs": [
        {
          "output_type": "stream",
          "name": "stdout",
          "text": [
            "Model: \"model\"\n",
            "_________________________________________________________________\n",
            " Layer (type)                Output Shape              Param #   \n",
            "=================================================================\n",
            " input_1 (InputLayer)        [(None, 640, 360, 3)]     0         \n",
            "                                                                 \n",
            " batch_normalization (Batch  (None, 640, 360, 3)       12        \n",
            " Normalization)                                                  \n",
            "                                                                 \n",
            " conv2d (Conv2D)             (None, 640, 360, 32)      2432      \n",
            "                                                                 \n",
            " leaky_re_lu (LeakyReLU)     (None, 640, 360, 32)      0         \n",
            "                                                                 \n",
            " max_pooling2d (MaxPooling2  (None, 320, 180, 32)      0         \n",
            " D)                                                              \n",
            "                                                                 \n",
            " batch_normalization_1 (Bat  (None, 320, 180, 32)      128       \n",
            " chNormalization)                                                \n",
            "                                                                 \n",
            " conv2d_1 (Conv2D)           (None, 320, 180, 64)      51264     \n",
            "                                                                 \n",
            " leaky_re_lu_1 (LeakyReLU)   (None, 320, 180, 64)      0         \n",
            "                                                                 \n",
            " max_pooling2d_1 (MaxPoolin  (None, 160, 90, 64)       0         \n",
            " g2D)                                                            \n",
            "                                                                 \n",
            " batch_normalization_2 (Bat  (None, 160, 90, 64)       256       \n",
            " chNormalization)                                                \n",
            "                                                                 \n",
            " conv2d_2 (Conv2D)           (None, 160, 90, 128)      204928    \n",
            "                                                                 \n",
            " leaky_re_lu_2 (LeakyReLU)   (None, 160, 90, 128)      0         \n",
            "                                                                 \n",
            " max_pooling2d_2 (MaxPoolin  (None, 80, 45, 128)       0         \n",
            " g2D)                                                            \n",
            "                                                                 \n",
            " batch_normalization_3 (Bat  (None, 80, 45, 128)       512       \n",
            " chNormalization)                                                \n",
            "                                                                 \n",
            " conv2d_3 (Conv2D)           (None, 80, 45, 64)        8256      \n",
            "                                                                 \n",
            " leaky_re_lu_3 (LeakyReLU)   (None, 80, 45, 64)        0         \n",
            "                                                                 \n",
            " max_pooling2d_3 (MaxPoolin  (None, 40, 22, 64)        0         \n",
            " g2D)                                                            \n",
            "                                                                 \n",
            " batch_normalization_4 (Bat  (None, 40, 22, 64)        256       \n",
            " chNormalization)                                                \n",
            "                                                                 \n",
            " conv2d_4 (Conv2D)           (None, 40, 22, 128)       204928    \n",
            "                                                                 \n",
            " leaky_re_lu_4 (LeakyReLU)   (None, 40, 22, 128)       0         \n",
            "                                                                 \n",
            " batch_normalization_5 (Bat  (None, 40, 22, 128)       512       \n",
            " chNormalization)                                                \n",
            "                                                                 \n",
            " conv2d_5 (Conv2D)           (None, 40, 22, 256)       819456    \n",
            "                                                                 \n",
            " leaky_re_lu_5 (LeakyReLU)   (None, 40, 22, 256)       0         \n",
            "                                                                 \n",
            " max_pooling2d_4 (MaxPoolin  (None, 20, 11, 256)       0         \n",
            " g2D)                                                            \n",
            "                                                                 \n",
            " global_average_pooling2d (  (None, 256)               0         \n",
            " GlobalAveragePooling2D)                                         \n",
            "                                                                 \n",
            " dense (Dense)               (None, 1024)              263168    \n",
            "                                                                 \n",
            " leaky_re_lu_6 (LeakyReLU)   (None, 1024)              0         \n",
            "                                                                 \n",
            " dense_1 (Dense)             (None, 128)               131200    \n",
            "                                                                 \n",
            " leaky_re_lu_7 (LeakyReLU)   (None, 128)               0         \n",
            "                                                                 \n",
            " dense_2 (Dense)             (None, 1)                 129       \n",
            "                                                                 \n",
            "=================================================================\n",
            "Total params: 1687437 (6.44 MB)\n",
            "Trainable params: 1686599 (6.43 MB)\n",
            "Non-trainable params: 838 (3.27 KB)\n",
            "_________________________________________________________________\n"
          ]
        }
      ]
    },
    {
      "cell_type": "markdown",
      "source": [
        "**TRAINING**"
      ],
      "metadata": {
        "id": "RmhcgXsqEDv6"
      }
    },
    {
      "cell_type": "code",
      "source": [
        "n_batches = 61\n",
        "\n",
        "cp_callback = tf.keras.callbacks.ModelCheckpoint(filepath='/content/checkpoints_512_layer_batch_8/cp-{epoch:04d}.ckpt',\n",
        "                                                 save_weights_only=True,\n",
        "                                                 verbose=1, save_freq=5*n_batches)\n",
        "\n",
        "\n",
        "model.compile(optimizer='adam', loss='mean_squared_error', metrics = tf.keras.metrics.RootMeanSquaredError())\n",
        "\n",
        "model.fit (X, y, batch_size =8, epochs = 100, validation_split = 0.1,  callbacks=[cp_callback])"
      ],
      "metadata": {
        "colab": {
          "base_uri": "https://localhost:8080/"
        },
        "id": "qKVC2f5VNygc",
        "outputId": "e24340b2-1b59-44fa-976c-c383026f5eef"
      },
      "execution_count": 5,
      "outputs": [
        {
          "output_type": "stream",
          "name": "stdout",
          "text": [
            "Epoch 1/100\n",
            "61/61 [==============================] - 30s 262ms/step - loss: 941.7267 - root_mean_squared_error: 30.6876 - val_loss: 5548.9697 - val_root_mean_squared_error: 74.4914\n",
            "Epoch 2/100\n",
            "61/61 [==============================] - 8s 134ms/step - loss: 795.7597 - root_mean_squared_error: 28.2092 - val_loss: 1009.2830 - val_root_mean_squared_error: 31.7692\n",
            "Epoch 3/100\n",
            "61/61 [==============================] - 8s 137ms/step - loss: 703.7760 - root_mean_squared_error: 26.5288 - val_loss: 725.3077 - val_root_mean_squared_error: 26.9315\n",
            "Epoch 4/100\n",
            "61/61 [==============================] - 8s 132ms/step - loss: 568.7383 - root_mean_squared_error: 23.8482 - val_loss: 675.4890 - val_root_mean_squared_error: 25.9902\n",
            "Epoch 5/100\n",
            "60/61 [============================>.] - ETA: 0s - loss: 491.5433 - root_mean_squared_error: 22.1708\n",
            "Epoch 5: saving model to /content/checkpoints_512_layer_batch_8/cp-0005.ckpt\n",
            "61/61 [==============================] - 8s 133ms/step - loss: 492.3222 - root_mean_squared_error: 22.1883 - val_loss: 537.6736 - val_root_mean_squared_error: 23.1878\n",
            "Epoch 6/100\n",
            "61/61 [==============================] - 8s 133ms/step - loss: 525.1152 - root_mean_squared_error: 22.9154 - val_loss: 548.4875 - val_root_mean_squared_error: 23.4198\n",
            "Epoch 7/100\n",
            "61/61 [==============================] - 8s 130ms/step - loss: 508.8924 - root_mean_squared_error: 22.5586 - val_loss: 1824.9990 - val_root_mean_squared_error: 42.7200\n",
            "Epoch 8/100\n",
            "61/61 [==============================] - 9s 140ms/step - loss: 397.6707 - root_mean_squared_error: 19.9417 - val_loss: 1032.3068 - val_root_mean_squared_error: 32.1295\n",
            "Epoch 9/100\n",
            "61/61 [==============================] - 9s 144ms/step - loss: 503.6608 - root_mean_squared_error: 22.4424 - val_loss: 424.0137 - val_root_mean_squared_error: 20.5916\n",
            "Epoch 10/100\n",
            "60/61 [============================>.] - ETA: 0s - loss: 415.0457 - root_mean_squared_error: 20.3727\n",
            "Epoch 10: saving model to /content/checkpoints_512_layer_batch_8/cp-0010.ckpt\n",
            "61/61 [==============================] - 8s 139ms/step - loss: 413.7667 - root_mean_squared_error: 20.3413 - val_loss: 4309.7461 - val_root_mean_squared_error: 65.6487\n",
            "Epoch 11/100\n",
            "61/61 [==============================] - 8s 127ms/step - loss: 406.1102 - root_mean_squared_error: 20.1522 - val_loss: 321.5692 - val_root_mean_squared_error: 17.9323\n",
            "Epoch 12/100\n",
            "61/61 [==============================] - 8s 130ms/step - loss: 392.1858 - root_mean_squared_error: 19.8037 - val_loss: 322.3483 - val_root_mean_squared_error: 17.9541\n",
            "Epoch 13/100\n",
            "61/61 [==============================] - 8s 134ms/step - loss: 320.8351 - root_mean_squared_error: 17.9119 - val_loss: 331.1908 - val_root_mean_squared_error: 18.1986\n",
            "Epoch 14/100\n",
            "61/61 [==============================] - 8s 130ms/step - loss: 312.8338 - root_mean_squared_error: 17.6871 - val_loss: 539.2696 - val_root_mean_squared_error: 23.2222\n",
            "Epoch 15/100\n",
            "60/61 [============================>.] - ETA: 0s - loss: 332.4512 - root_mean_squared_error: 18.2332\n",
            "Epoch 15: saving model to /content/checkpoints_512_layer_batch_8/cp-0015.ckpt\n",
            "61/61 [==============================] - 8s 133ms/step - loss: 331.6553 - root_mean_squared_error: 18.2114 - val_loss: 383.8239 - val_root_mean_squared_error: 19.5914\n",
            "Epoch 16/100\n",
            "61/61 [==============================] - 8s 130ms/step - loss: 317.9076 - root_mean_squared_error: 17.8300 - val_loss: 347.0355 - val_root_mean_squared_error: 18.6289\n",
            "Epoch 17/100\n",
            "61/61 [==============================] - 8s 130ms/step - loss: 339.7697 - root_mean_squared_error: 18.4328 - val_loss: 235.7580 - val_root_mean_squared_error: 15.3544\n",
            "Epoch 18/100\n",
            "61/61 [==============================] - 8s 129ms/step - loss: 297.5665 - root_mean_squared_error: 17.2501 - val_loss: 315.5646 - val_root_mean_squared_error: 17.7641\n",
            "Epoch 19/100\n",
            "61/61 [==============================] - 8s 135ms/step - loss: 318.9145 - root_mean_squared_error: 17.8582 - val_loss: 305.8908 - val_root_mean_squared_error: 17.4897\n",
            "Epoch 20/100\n",
            "60/61 [============================>.] - ETA: 0s - loss: 297.7928 - root_mean_squared_error: 17.2567\n",
            "Epoch 20: saving model to /content/checkpoints_512_layer_batch_8/cp-0020.ckpt\n",
            "61/61 [==============================] - 8s 133ms/step - loss: 299.4798 - root_mean_squared_error: 17.3055 - val_loss: 284.3145 - val_root_mean_squared_error: 16.8616\n",
            "Epoch 21/100\n",
            "61/61 [==============================] - 8s 132ms/step - loss: 278.5025 - root_mean_squared_error: 16.6884 - val_loss: 222.8158 - val_root_mean_squared_error: 14.9270\n",
            "Epoch 22/100\n",
            "61/61 [==============================] - 8s 128ms/step - loss: 250.4019 - root_mean_squared_error: 15.8241 - val_loss: 211.9823 - val_root_mean_squared_error: 14.5596\n",
            "Epoch 23/100\n",
            "61/61 [==============================] - 8s 131ms/step - loss: 333.2338 - root_mean_squared_error: 18.2547 - val_loss: 199.4225 - val_root_mean_squared_error: 14.1217\n",
            "Epoch 24/100\n",
            "61/61 [==============================] - 8s 128ms/step - loss: 284.1290 - root_mean_squared_error: 16.8561 - val_loss: 209.7720 - val_root_mean_squared_error: 14.4835\n",
            "Epoch 25/100\n",
            "60/61 [============================>.] - ETA: 0s - loss: 271.6909 - root_mean_squared_error: 16.4831\n",
            "Epoch 25: saving model to /content/checkpoints_512_layer_batch_8/cp-0025.ckpt\n",
            "61/61 [==============================] - 8s 139ms/step - loss: 270.8349 - root_mean_squared_error: 16.4571 - val_loss: 286.1281 - val_root_mean_squared_error: 16.9153\n",
            "Epoch 26/100\n",
            "61/61 [==============================] - 8s 127ms/step - loss: 273.8465 - root_mean_squared_error: 16.5483 - val_loss: 197.2882 - val_root_mean_squared_error: 14.0459\n",
            "Epoch 27/100\n",
            "61/61 [==============================] - 8s 131ms/step - loss: 239.9122 - root_mean_squared_error: 15.4891 - val_loss: 225.0736 - val_root_mean_squared_error: 15.0025\n",
            "Epoch 28/100\n",
            "61/61 [==============================] - 8s 128ms/step - loss: 195.7810 - root_mean_squared_error: 13.9922 - val_loss: 133.2500 - val_root_mean_squared_error: 11.5434\n",
            "Epoch 29/100\n",
            "61/61 [==============================] - 8s 135ms/step - loss: 238.7233 - root_mean_squared_error: 15.4507 - val_loss: 243.0692 - val_root_mean_squared_error: 15.5907\n",
            "Epoch 30/100\n",
            "60/61 [============================>.] - ETA: 0s - loss: 241.0117 - root_mean_squared_error: 15.5246\n",
            "Epoch 30: saving model to /content/checkpoints_512_layer_batch_8/cp-0030.ckpt\n",
            "61/61 [==============================] - 8s 132ms/step - loss: 240.0256 - root_mean_squared_error: 15.4928 - val_loss: 238.0799 - val_root_mean_squared_error: 15.4298\n",
            "Epoch 31/100\n",
            "61/61 [==============================] - 8s 136ms/step - loss: 246.3483 - root_mean_squared_error: 15.6955 - val_loss: 168.6182 - val_root_mean_squared_error: 12.9853\n",
            "Epoch 32/100\n",
            "61/61 [==============================] - 8s 129ms/step - loss: 291.5656 - root_mean_squared_error: 17.0753 - val_loss: 130.7065 - val_root_mean_squared_error: 11.4327\n",
            "Epoch 33/100\n",
            "61/61 [==============================] - 8s 129ms/step - loss: 199.6836 - root_mean_squared_error: 14.1309 - val_loss: 243.0599 - val_root_mean_squared_error: 15.5904\n",
            "Epoch 34/100\n",
            "61/61 [==============================] - 8s 130ms/step - loss: 216.5047 - root_mean_squared_error: 14.7141 - val_loss: 192.3849 - val_root_mean_squared_error: 13.8703\n",
            "Epoch 35/100\n",
            "60/61 [============================>.] - ETA: 0s - loss: 181.7057 - root_mean_squared_error: 13.4798\n",
            "Epoch 35: saving model to /content/checkpoints_512_layer_batch_8/cp-0035.ckpt\n",
            "61/61 [==============================] - 8s 132ms/step - loss: 181.0799 - root_mean_squared_error: 13.4566 - val_loss: 131.8022 - val_root_mean_squared_error: 11.4805\n",
            "Epoch 36/100\n",
            "61/61 [==============================] - 8s 130ms/step - loss: 179.9001 - root_mean_squared_error: 13.4127 - val_loss: 137.1067 - val_root_mean_squared_error: 11.7093\n",
            "Epoch 37/100\n",
            "61/61 [==============================] - 8s 128ms/step - loss: 221.9370 - root_mean_squared_error: 14.8975 - val_loss: 156.5409 - val_root_mean_squared_error: 12.5116\n",
            "Epoch 38/100\n",
            "61/61 [==============================] - 8s 136ms/step - loss: 180.5589 - root_mean_squared_error: 13.4372 - val_loss: 150.5889 - val_root_mean_squared_error: 12.2715\n",
            "Epoch 39/100\n",
            "61/61 [==============================] - 8s 128ms/step - loss: 200.0478 - root_mean_squared_error: 14.1438 - val_loss: 115.0019 - val_root_mean_squared_error: 10.7239\n",
            "Epoch 40/100\n",
            "60/61 [============================>.] - ETA: 0s - loss: 167.6938 - root_mean_squared_error: 12.9497\n",
            "Epoch 40: saving model to /content/checkpoints_512_layer_batch_8/cp-0040.ckpt\n",
            "61/61 [==============================] - 8s 133ms/step - loss: 167.0443 - root_mean_squared_error: 12.9246 - val_loss: 277.6603 - val_root_mean_squared_error: 16.6631\n",
            "Epoch 41/100\n",
            "61/61 [==============================] - 8s 128ms/step - loss: 217.3965 - root_mean_squared_error: 14.7444 - val_loss: 137.2970 - val_root_mean_squared_error: 11.7174\n",
            "Epoch 42/100\n",
            "61/61 [==============================] - 8s 130ms/step - loss: 169.2066 - root_mean_squared_error: 13.0079 - val_loss: 111.4671 - val_root_mean_squared_error: 10.5578\n",
            "Epoch 43/100\n",
            "61/61 [==============================] - 8s 128ms/step - loss: 190.3763 - root_mean_squared_error: 13.7977 - val_loss: 225.9812 - val_root_mean_squared_error: 15.0327\n",
            "Epoch 44/100\n",
            "61/61 [==============================] - 8s 131ms/step - loss: 192.7565 - root_mean_squared_error: 13.8837 - val_loss: 157.4024 - val_root_mean_squared_error: 12.5460\n",
            "Epoch 45/100\n",
            "60/61 [============================>.] - ETA: 0s - loss: 172.2077 - root_mean_squared_error: 13.1228\n",
            "Epoch 45: saving model to /content/checkpoints_512_layer_batch_8/cp-0045.ckpt\n",
            "61/61 [==============================] - 8s 130ms/step - loss: 171.5045 - root_mean_squared_error: 13.0960 - val_loss: 151.4365 - val_root_mean_squared_error: 12.3060\n",
            "Epoch 46/100\n",
            "61/61 [==============================] - 8s 131ms/step - loss: 170.6569 - root_mean_squared_error: 13.0636 - val_loss: 252.2987 - val_root_mean_squared_error: 15.8839\n",
            "Epoch 47/100\n",
            "61/61 [==============================] - 8s 129ms/step - loss: 142.8856 - root_mean_squared_error: 11.9535 - val_loss: 409.3340 - val_root_mean_squared_error: 20.2320\n",
            "Epoch 48/100\n",
            "61/61 [==============================] - 8s 136ms/step - loss: 195.8508 - root_mean_squared_error: 13.9947 - val_loss: 144.3024 - val_root_mean_squared_error: 12.0126\n",
            "Epoch 49/100\n",
            "61/61 [==============================] - 8s 135ms/step - loss: 170.1744 - root_mean_squared_error: 13.0451 - val_loss: 162.7426 - val_root_mean_squared_error: 12.7571\n",
            "Epoch 50/100\n",
            "60/61 [============================>.] - ETA: 0s - loss: 158.5636 - root_mean_squared_error: 12.5922\n",
            "Epoch 50: saving model to /content/checkpoints_512_layer_batch_8/cp-0050.ckpt\n",
            "61/61 [==============================] - 8s 132ms/step - loss: 159.7345 - root_mean_squared_error: 12.6386 - val_loss: 141.1140 - val_root_mean_squared_error: 11.8791\n",
            "Epoch 51/100\n",
            "61/61 [==============================] - 8s 130ms/step - loss: 150.4016 - root_mean_squared_error: 12.2638 - val_loss: 101.6971 - val_root_mean_squared_error: 10.0845\n",
            "Epoch 52/100\n",
            "61/61 [==============================] - 8s 129ms/step - loss: 171.0780 - root_mean_squared_error: 13.0797 - val_loss: 107.2221 - val_root_mean_squared_error: 10.3548\n",
            "Epoch 53/100\n",
            "61/61 [==============================] - 8s 130ms/step - loss: 186.6979 - root_mean_squared_error: 13.6637 - val_loss: 319.9171 - val_root_mean_squared_error: 17.8862\n",
            "Epoch 54/100\n",
            "61/61 [==============================] - 8s 129ms/step - loss: 211.4913 - root_mean_squared_error: 14.5427 - val_loss: 200.0327 - val_root_mean_squared_error: 14.1433\n",
            "Epoch 55/100\n",
            "60/61 [============================>.] - ETA: 0s - loss: 192.0821 - root_mean_squared_error: 13.8594\n",
            "Epoch 55: saving model to /content/checkpoints_512_layer_batch_8/cp-0055.ckpt\n",
            "61/61 [==============================] - 8s 133ms/step - loss: 192.7077 - root_mean_squared_error: 13.8819 - val_loss: 183.2930 - val_root_mean_squared_error: 13.5386\n",
            "Epoch 56/100\n",
            "61/61 [==============================] - 8s 128ms/step - loss: 128.8536 - root_mean_squared_error: 11.3514 - val_loss: 127.6653 - val_root_mean_squared_error: 11.2989\n",
            "Epoch 57/100\n",
            "61/61 [==============================] - 8s 132ms/step - loss: 124.9264 - root_mean_squared_error: 11.1770 - val_loss: 175.5002 - val_root_mean_squared_error: 13.2476\n",
            "Epoch 58/100\n",
            "61/61 [==============================] - 8s 128ms/step - loss: 123.4650 - root_mean_squared_error: 11.1115 - val_loss: 119.1002 - val_root_mean_squared_error: 10.9133\n",
            "Epoch 59/100\n",
            "61/61 [==============================] - 8s 131ms/step - loss: 125.4449 - root_mean_squared_error: 11.2002 - val_loss: 128.5094 - val_root_mean_squared_error: 11.3362\n",
            "Epoch 60/100\n",
            "60/61 [============================>.] - ETA: 0s - loss: 95.5674 - root_mean_squared_error: 9.7759\n",
            "Epoch 60: saving model to /content/checkpoints_512_layer_batch_8/cp-0060.ckpt\n",
            "61/61 [==============================] - 8s 131ms/step - loss: 97.8678 - root_mean_squared_error: 9.8928 - val_loss: 85.1103 - val_root_mean_squared_error: 9.2255\n",
            "Epoch 61/100\n",
            "61/61 [==============================] - 8s 132ms/step - loss: 120.9227 - root_mean_squared_error: 10.9965 - val_loss: 92.6229 - val_root_mean_squared_error: 9.6241\n",
            "Epoch 62/100\n",
            "61/61 [==============================] - 8s 128ms/step - loss: 119.3836 - root_mean_squared_error: 10.9263 - val_loss: 108.3426 - val_root_mean_squared_error: 10.4088\n",
            "Epoch 63/100\n",
            "61/61 [==============================] - 8s 131ms/step - loss: 120.5624 - root_mean_squared_error: 10.9801 - val_loss: 107.6694 - val_root_mean_squared_error: 10.3764\n",
            "Epoch 64/100\n",
            "61/61 [==============================] - 8s 128ms/step - loss: 120.2715 - root_mean_squared_error: 10.9668 - val_loss: 167.0424 - val_root_mean_squared_error: 12.9245\n",
            "Epoch 65/100\n",
            "60/61 [============================>.] - ETA: 0s - loss: 104.8979 - root_mean_squared_error: 10.2420\n",
            "Epoch 65: saving model to /content/checkpoints_512_layer_batch_8/cp-0065.ckpt\n",
            "61/61 [==============================] - 8s 133ms/step - loss: 104.9177 - root_mean_squared_error: 10.2429 - val_loss: 92.1235 - val_root_mean_squared_error: 9.5981\n",
            "Epoch 66/100\n",
            "61/61 [==============================] - 8s 129ms/step - loss: 104.6190 - root_mean_squared_error: 10.2283 - val_loss: 117.6751 - val_root_mean_squared_error: 10.8478\n",
            "Epoch 67/100\n",
            "61/61 [==============================] - 8s 130ms/step - loss: 127.4145 - root_mean_squared_error: 11.2878 - val_loss: 131.7267 - val_root_mean_squared_error: 11.4772\n",
            "Epoch 68/100\n",
            "61/61 [==============================] - 8s 129ms/step - loss: 106.0912 - root_mean_squared_error: 10.3001 - val_loss: 292.4004 - val_root_mean_squared_error: 17.0997\n",
            "Epoch 69/100\n",
            "61/61 [==============================] - 8s 130ms/step - loss: 118.9210 - root_mean_squared_error: 10.9051 - val_loss: 125.1463 - val_root_mean_squared_error: 11.1869\n",
            "Epoch 70/100\n",
            "60/61 [============================>.] - ETA: 0s - loss: 112.3634 - root_mean_squared_error: 10.6002\n",
            "Epoch 70: saving model to /content/checkpoints_512_layer_batch_8/cp-0070.ckpt\n",
            "61/61 [==============================] - 8s 132ms/step - loss: 112.2665 - root_mean_squared_error: 10.5956 - val_loss: 106.4662 - val_root_mean_squared_error: 10.3182\n",
            "Epoch 71/100\n",
            "61/61 [==============================] - 8s 129ms/step - loss: 112.8965 - root_mean_squared_error: 10.6253 - val_loss: 97.1581 - val_root_mean_squared_error: 9.8569\n",
            "Epoch 72/100\n",
            "61/61 [==============================] - 8s 130ms/step - loss: 101.3100 - root_mean_squared_error: 10.0653 - val_loss: 105.8880 - val_root_mean_squared_error: 10.2902\n",
            "Epoch 73/100\n",
            "61/61 [==============================] - 8s 129ms/step - loss: 95.3328 - root_mean_squared_error: 9.7639 - val_loss: 170.6037 - val_root_mean_squared_error: 13.0615\n",
            "Epoch 74/100\n",
            "61/61 [==============================] - 8s 130ms/step - loss: 128.0720 - root_mean_squared_error: 11.3169 - val_loss: 352.3999 - val_root_mean_squared_error: 18.7723\n",
            "Epoch 75/100\n",
            "60/61 [============================>.] - ETA: 0s - loss: 95.2948 - root_mean_squared_error: 9.7619\n",
            "Epoch 75: saving model to /content/checkpoints_512_layer_batch_8/cp-0075.ckpt\n",
            "61/61 [==============================] - 8s 131ms/step - loss: 96.9922 - root_mean_squared_error: 9.8485 - val_loss: 121.0954 - val_root_mean_squared_error: 11.0043\n",
            "Epoch 76/100\n",
            "61/61 [==============================] - 8s 131ms/step - loss: 115.5931 - root_mean_squared_error: 10.7514 - val_loss: 135.4419 - val_root_mean_squared_error: 11.6380\n",
            "Epoch 77/100\n",
            "61/61 [==============================] - 8s 128ms/step - loss: 86.1460 - root_mean_squared_error: 9.2815 - val_loss: 91.4705 - val_root_mean_squared_error: 9.5640\n",
            "Epoch 78/100\n",
            "61/61 [==============================] - 8s 132ms/step - loss: 139.7495 - root_mean_squared_error: 11.8216 - val_loss: 137.0502 - val_root_mean_squared_error: 11.7068\n",
            "Epoch 79/100\n",
            "61/61 [==============================] - 8s 128ms/step - loss: 86.3608 - root_mean_squared_error: 9.2931 - val_loss: 107.7074 - val_root_mean_squared_error: 10.3782\n",
            "Epoch 80/100\n",
            "60/61 [============================>.] - ETA: 0s - loss: 83.5776 - root_mean_squared_error: 9.1421\n",
            "Epoch 80: saving model to /content/checkpoints_512_layer_batch_8/cp-0080.ckpt\n",
            "61/61 [==============================] - 8s 134ms/step - loss: 83.5968 - root_mean_squared_error: 9.1431 - val_loss: 101.2175 - val_root_mean_squared_error: 10.0607\n",
            "Epoch 81/100\n",
            "61/61 [==============================] - 8s 128ms/step - loss: 82.7816 - root_mean_squared_error: 9.0984 - val_loss: 115.1391 - val_root_mean_squared_error: 10.7303\n",
            "Epoch 82/100\n",
            "61/61 [==============================] - 8s 131ms/step - loss: 120.7706 - root_mean_squared_error: 10.9896 - val_loss: 85.3614 - val_root_mean_squared_error: 9.2391\n",
            "Epoch 83/100\n",
            "61/61 [==============================] - 8s 128ms/step - loss: 94.1451 - root_mean_squared_error: 9.7028 - val_loss: 128.1544 - val_root_mean_squared_error: 11.3205\n",
            "Epoch 84/100\n",
            "61/61 [==============================] - 8s 131ms/step - loss: 74.5240 - root_mean_squared_error: 8.6327 - val_loss: 97.9138 - val_root_mean_squared_error: 9.8951\n",
            "Epoch 85/100\n",
            "60/61 [============================>.] - ETA: 0s - loss: 80.6267 - root_mean_squared_error: 8.9792\n",
            "Epoch 85: saving model to /content/checkpoints_512_layer_batch_8/cp-0085.ckpt\n",
            "61/61 [==============================] - 8s 131ms/step - loss: 80.3976 - root_mean_squared_error: 8.9665 - val_loss: 106.3498 - val_root_mean_squared_error: 10.3126\n",
            "Epoch 86/100\n",
            "61/61 [==============================] - 8s 132ms/step - loss: 75.6967 - root_mean_squared_error: 8.7004 - val_loss: 89.5322 - val_root_mean_squared_error: 9.4621\n",
            "Epoch 87/100\n",
            "61/61 [==============================] - 8s 129ms/step - loss: 77.2579 - root_mean_squared_error: 8.7896 - val_loss: 106.3543 - val_root_mean_squared_error: 10.3128\n",
            "Epoch 88/100\n",
            "61/61 [==============================] - 8s 131ms/step - loss: 69.1980 - root_mean_squared_error: 8.3185 - val_loss: 81.7415 - val_root_mean_squared_error: 9.0411\n",
            "Epoch 89/100\n",
            "61/61 [==============================] - 8s 135ms/step - loss: 57.1975 - root_mean_squared_error: 7.5629 - val_loss: 113.5407 - val_root_mean_squared_error: 10.6555\n",
            "Epoch 90/100\n",
            "60/61 [============================>.] - ETA: 0s - loss: 61.8929 - root_mean_squared_error: 7.8672\n",
            "Epoch 90: saving model to /content/checkpoints_512_layer_batch_8/cp-0090.ckpt\n",
            "61/61 [==============================] - 8s 132ms/step - loss: 61.7226 - root_mean_squared_error: 7.8564 - val_loss: 84.9903 - val_root_mean_squared_error: 9.2190\n",
            "Epoch 91/100\n",
            "61/61 [==============================] - 8s 131ms/step - loss: 69.8521 - root_mean_squared_error: 8.3578 - val_loss: 93.7248 - val_root_mean_squared_error: 9.6812\n",
            "Epoch 92/100\n",
            "61/61 [==============================] - 8s 129ms/step - loss: 53.0142 - root_mean_squared_error: 7.2811 - val_loss: 131.9268 - val_root_mean_squared_error: 11.4859\n",
            "Epoch 93/100\n",
            "61/61 [==============================] - 8s 136ms/step - loss: 59.0741 - root_mean_squared_error: 7.6860 - val_loss: 115.7864 - val_root_mean_squared_error: 10.7604\n",
            "Epoch 94/100\n",
            "61/61 [==============================] - 8s 129ms/step - loss: 59.3428 - root_mean_squared_error: 7.7034 - val_loss: 103.6579 - val_root_mean_squared_error: 10.1813\n",
            "Epoch 95/100\n",
            "60/61 [============================>.] - ETA: 0s - loss: 65.7330 - root_mean_squared_error: 8.1076\n",
            "Epoch 95: saving model to /content/checkpoints_512_layer_batch_8/cp-0095.ckpt\n",
            "61/61 [==============================] - 8s 134ms/step - loss: 65.6477 - root_mean_squared_error: 8.1023 - val_loss: 172.1361 - val_root_mean_squared_error: 13.1201\n",
            "Epoch 96/100\n",
            "61/61 [==============================] - 8s 128ms/step - loss: 110.0636 - root_mean_squared_error: 10.4911 - val_loss: 193.6457 - val_root_mean_squared_error: 13.9157\n",
            "Epoch 97/100\n",
            "61/61 [==============================] - 8s 131ms/step - loss: 90.3535 - root_mean_squared_error: 9.5054 - val_loss: 135.3842 - val_root_mean_squared_error: 11.6355\n",
            "Epoch 98/100\n",
            "61/61 [==============================] - 8s 128ms/step - loss: 70.7745 - root_mean_squared_error: 8.4128 - val_loss: 89.2864 - val_root_mean_squared_error: 9.4491\n",
            "Epoch 99/100\n",
            "61/61 [==============================] - 8s 131ms/step - loss: 56.2933 - root_mean_squared_error: 7.5029 - val_loss: 135.2568 - val_root_mean_squared_error: 11.6300\n",
            "Epoch 100/100\n",
            "60/61 [============================>.] - ETA: 0s - loss: 56.8817 - root_mean_squared_error: 7.5420\n",
            "Epoch 100: saving model to /content/checkpoints_512_layer_batch_8/cp-0100.ckpt\n",
            "61/61 [==============================] - 8s 130ms/step - loss: 62.8720 - root_mean_squared_error: 7.9292 - val_loss: 239.2803 - val_root_mean_squared_error: 15.4687\n"
          ]
        },
        {
          "output_type": "execute_result",
          "data": {
            "text/plain": [
              "<keras.src.callbacks.History at 0x7ed75c519330>"
            ]
          },
          "metadata": {},
          "execution_count": 5
        }
      ]
    },
    {
      "cell_type": "code",
      "source": [
        "import re\n",
        "\n",
        "text = ' '      #copy required output\n",
        "val_rmse_values = re.findall(r'val_root_mean_squared_error: (\\d+\\.\\d+)', text)\n",
        "\n",
        "val_rmse_values = [float(value) for value in val_rmse_values]"
      ],
      "metadata": {
        "id": "Lf5WcfhaGD5q"
      },
      "execution_count": null,
      "outputs": []
    },
    {
      "cell_type": "code",
      "source": [
        "import matplotlib.pyplot as plt\n",
        "\n",
        "x = np.arange(1,90)\n",
        "\n",
        "plt.plot(x, val_rmse_values, label='Error')\n",
        "plt.legend()\n",
        "plt.xlabel('Epochs')\n",
        "plt.ylabel('Validation RMS Error')\n",
        "plt.title('Validation Error vs Epochs')\n",
        "plt.show"
      ],
      "metadata": {
        "colab": {
          "base_uri": "https://localhost:8080/",
          "height": 559
        },
        "id": "_z2g0YUItDew",
        "outputId": "e7c008d8-ddd9-455e-8c2e-0e9523406b05"
      },
      "execution_count": 9,
      "outputs": [
        {
          "output_type": "stream",
          "name": "stdout",
          "text": [
            "[ 1  2  3  4  5  6  7  8  9 10 11 12 13 14 15 16 17 18 19 20 21 22 23 24\n",
            " 25 26 27 28 29 30 31 32 33 34 35 36 37 38 39 40 41 42 43 44 45 46 47 48\n",
            " 49 50 51 52 53 54 55 56 57 58 59 60 61 62 63 64 65 66 67 68 69 70 71 72\n",
            " 73 74 75 76 77 78 79 80 81 82 83 84 85 86 87 88 89]\n"
          ]
        },
        {
          "output_type": "execute_result",
          "data": {
            "text/plain": [
              "<function matplotlib.pyplot.show(close=None, block=None)>"
            ]
          },
          "metadata": {},
          "execution_count": 9
        },
        {
          "output_type": "display_data",
          "data": {
            "text/plain": [
              "<Figure size 640x480 with 1 Axes>"
            ],
            "image/png": "[encoded data removed]"
          },
          "metadata": {}
        }
      ]
    },
    {
      "cell_type": "markdown",
      "source": [
        "**TEST DATA**"
      ],
      "metadata": {
        "id": "WoQKnHfInymc"
      }
    },
    {
      "cell_type": "code",
      "source": [
        "model.load_weights('/content/drive/MyDrive/simpler_net_batch_8/cp-0090.ckpt')                    ##remove the characters after ckpt for file path\n"
      ],
      "metadata": {
        "colab": {
          "base_uri": "https://localhost:8080/"
        },
        "id": "goRoG0tid0lh",
        "outputId": "2969e4d8-84f5-441d-e74c-8ece43bc0860"
      },
      "execution_count": 4,
      "outputs": [
        {
          "output_type": "execute_result",
          "data": {
            "text/plain": [
              "<tensorflow.python.checkpoint.checkpoint.CheckpointLoadStatus at 0x7a9689917f70>"
            ]
          },
          "metadata": {},
          "execution_count": 4
        }
      ]
    },
    {
      "cell_type": "code",
      "source": [
        "!cp /content/data/images/val/* /content/data/images/test/                  #Since we used validation split for training data, this wasn't used for training"
      ],
      "metadata": {
        "id": "9-9tUAX82xiz"
      },
      "execution_count": 14,
      "outputs": []
    },
    {
      "cell_type": "code",
      "source": [
        "import cv2\n",
        "import os\n",
        "import random\n",
        "import numpy as np\n",
        "from google.colab.patches import cv2_imshow\n",
        "\n",
        "test_data = []\n",
        "\n",
        "for fname in os.listdir(\"/content/data/images/test/\"):\n",
        "  fname_indl = fname.rfind(\"/\") + 1\n",
        "  fname_indr = fname.rfind(\".\")\n",
        "\n",
        "  with open(\"/content/labels/\" + fname[fname_indl:fname_indr]+\".txt\", \"r\") as f:\n",
        "    apple_count = f.read()\n",
        "\n",
        "  test_data.append([cv2.imread(\"/content/data/images/test/\" + fname), apple_count])\n",
        "\n",
        "random.shuffle(test_data)\n",
        "\n",
        "X = []\n",
        "y=  []\n",
        "\n",
        "for img, label in test_data:\n",
        "  X.append(np.resize(img,(640, 360, 3)))\n",
        "  y.append(int(label))\n",
        "\n",
        "X = np.array(X)\n",
        "print(X.shape)\n",
        "print(X[0])\n",
        "y = np.array(y)\n",
        "\n",
        "X = X/255.0"
      ],
      "metadata": {
        "id": "PLDdN7K1Sg-D"
      },
      "execution_count": null,
      "outputs": []
    },
    {
      "cell_type": "code",
      "source": [
        "model_outputs = model.predict(X).flatten()\n",
        "print(model_outputs.shape)"
      ],
      "metadata": {
        "colab": {
          "base_uri": "https://localhost:8080/"
        },
        "id": "jOuMZpAOcbmC",
        "outputId": "a1b16246-4d56-4e91-8adc-c10b014790ef"
      },
      "execution_count": 6,
      "outputs": [
        {
          "output_type": "stream",
          "name": "stdout",
          "text": [
            "5/5 [==============================] - 8s 441ms/step\n",
            "(134,)\n"
          ]
        }
      ]
    },
    {
      "cell_type": "code",
      "source": [
        "def plot_accuracy(actual_counts, detected_counts, title, color):\n",
        "    plt.figure(figsize=(10, 6))\n",
        "    plt.scatter(actual_counts, detected_counts, color=color)\n",
        "    plt.plot([0, max(actual_counts)], [0, max(actual_counts)], 'b--')\n",
        "    plt.xlabel('Actual Counts')\n",
        "    plt.ylabel('Detected Counts')\n",
        "    plt.title(title)\n",
        "    plt.legend(['Detected Counts', 'Line of Perfect Accuracy'])\n",
        "    plt.grid(True)\n",
        "    plt.show()\n",
        "\n",
        "plot_accuracy(y, model_outputs, 'ML method plot for test dataset (Includes both Red and Green Apples)', 'y')"
      ],
      "metadata": {
        "colab": {
          "base_uri": "https://localhost:8080/",
          "height": 564
        },
        "id": "fmavdM6OkNeN",
        "outputId": "7d0a30dd-b1f3-49b4-ae6c-33e80cf57ec7"
      },
      "execution_count": 17,
      "outputs": [
        {
          "output_type": "display_data",
          "data": {
            "text/plain": [
              "<Figure size 1000x600 with 1 Axes>"
            ],
            "image/png": "[encoded data removed]"
          },
          "metadata": {}
        }
      ]
    },
    {
      "cell_type": "code",
      "source": [
        "##FIND RMS\n",
        "\n",
        "rms_sum = 0;\n",
        "\n",
        "for i in range(0, model_outputs.shape[0]):\n",
        "  rms_sum += (int(model_outputs[i]) - y[i]) **2\n",
        "\n",
        "rms_sum = np.sqrt(rms_sum/model_outputs.shape[0])\n",
        "\n",
        "print(rms_sum)"
      ],
      "metadata": {
        "colab": {
          "base_uri": "https://localhost:8080/"
        },
        "id": "gnSOBFroh0gx",
        "outputId": "dd4f4e92-8f50-4473-cabf-e3671891dcd1"
      },
      "execution_count": 7,
      "outputs": [
        {
          "output_type": "stream",
          "name": "stdout",
          "text": [
            "10.210471651362809\n"
          ]
        }
      ]
    },
    {
      "cell_type": "code",
      "source": [
        "#FIND PERCENT ERROR\n",
        "total_apples = np.sum(y)\n",
        "total_detected = np.sum(model_outputs)\n",
        "\n",
        "print(total_detected / total_apples)"
      ],
      "metadata": {
        "colab": {
          "base_uri": "https://localhost:8080/"
        },
        "id": "7GhIWnabjzQd",
        "outputId": "4d7345f8-4f35-4ff1-cecd-3c2ec910879a"
      },
      "execution_count": 19,
      "outputs": [
        {
          "output_type": "stream",
          "name": "stdout",
          "text": [
            "0.9872567606358893\n"
          ]
        }
      ]
    },
    {
      "cell_type": "code",
      "source": [],
      "metadata": {
        "id": "OaE_UA5MZQ1v"
      },
      "execution_count": null,
      "outputs": []
    }
  ]
}